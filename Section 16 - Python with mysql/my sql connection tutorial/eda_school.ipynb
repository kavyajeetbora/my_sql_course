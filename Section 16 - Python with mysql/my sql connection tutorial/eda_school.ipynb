{
 "cells": [
  {
   "cell_type": "code",
   "execution_count": 1,
   "id": "d04612cf",
   "metadata": {},
   "outputs": [],
   "source": [
    "import mysql.connector\n",
    "import pandas as pd\n",
    "from mysql.connector import Error"
   ]
  },
  {
   "cell_type": "markdown",
   "id": "6b41878e",
   "metadata": {},
   "source": [
    "## Reading data"
   ]
  },
  {
   "cell_type": "code",
   "execution_count": 2,
   "id": "08a7f70f",
   "metadata": {},
   "outputs": [],
   "source": [
    "def connect_to_database(hostname, user, password, db_name):\n",
    "    \n",
    "    connection = None\n",
    "    try:\n",
    "        connection = mysql.connector.connect(\n",
    "            host = hostname,\n",
    "            user = user,\n",
    "            passwd = password,\n",
    "            database = db_name\n",
    "        )\n",
    "        print(\"Connection to database: '%s' successfull.\"%db_name)\n",
    "    except Error as err:\n",
    "        print(\"ERROR: %s\" % err)\n",
    "    \n",
    "    return connection"
   ]
  },
  {
   "cell_type": "code",
   "execution_count": 7,
   "id": "c20d3bc5",
   "metadata": {},
   "outputs": [],
   "source": [
    "def read_query(connection, query):\n",
    "    cursor = connection.cursor()\n",
    "    results = None\n",
    "    try:\n",
    "        cursor.execute(query)\n",
    "        results = cursor.fetchall()\n",
    "        print(\"Query successfully executed\")\n",
    "        return results\n",
    "    except Error as err:\n",
    "        print(\"ERROR !\\n%s\"%err)"
   ]
  },
  {
   "cell_type": "markdown",
   "id": "94c24ee1",
   "metadata": {},
   "source": [
    "1. Establish a connection to the database"
   ]
  },
  {
   "cell_type": "code",
   "execution_count": 9,
   "id": "68127d60",
   "metadata": {},
   "outputs": [
    {
     "name": "stdout",
     "output_type": "stream",
     "text": [
      "Connection to database: 'school' successfull.\n"
     ]
    }
   ],
   "source": [
    "connection = connect_to_database(\n",
    "    hostname = \"localhost\",\n",
    "    user = \"root\",\n",
    "    password = \"Bora@1992\",\n",
    "    db_name = \"school\"\n",
    ")"
   ]
  },
  {
   "cell_type": "markdown",
   "id": "4cd39d52",
   "metadata": {},
   "source": [
    "2. Once the connection is successfull, run the query:"
   ]
  },
  {
   "cell_type": "code",
   "execution_count": 16,
   "id": "db86fdd8",
   "metadata": {},
   "outputs": [
    {
     "name": "stdout",
     "output_type": "stream",
     "text": [
      "Query successfully executed\n",
      "(1, 'Luke', 'Thomas')\n",
      "(2, 'Gabriel', 'Moon')\n",
      "(3, 'Dawn', 'Barron')\n",
      "(4, 'Suzanne', 'Jones')\n",
      "(5, 'Brian', 'Waters')\n",
      "(6, 'Shannon', 'Harvey')\n",
      "(7, 'Michelle', 'Young')\n",
      "(8, 'Shawn', 'Mosley')\n",
      "(9, 'Julia', 'Smith')\n",
      "(10, 'Stacy', 'Lewis')\n"
     ]
    }
   ],
   "source": [
    "query = \"SELECT * FROM teachers;\"\n",
    "\n",
    "results = read_query(connection, query)\n",
    "for result in results:\n",
    "    print(result)"
   ]
  },
  {
   "cell_type": "markdown",
   "id": "919646ba",
   "metadata": {},
   "source": [
    "## Explanatory data analysis"
   ]
  },
  {
   "cell_type": "markdown",
   "id": "e59c0c84",
   "metadata": {},
   "source": [
    "Number of students in the school:"
   ]
  },
  {
   "cell_type": "code",
   "execution_count": 19,
   "id": "d12340b8",
   "metadata": {},
   "outputs": [
    {
     "name": "stdout",
     "output_type": "stream",
     "text": [
      "Query successfully executed\n"
     ]
    },
    {
     "data": {
      "text/plain": [
       "[(300,)]"
      ]
     },
     "execution_count": 19,
     "metadata": {},
     "output_type": "execute_result"
    }
   ],
   "source": [
    "query = '''\n",
    "    SELECT COUNT(*) FROM students;    \n",
    "'''\n",
    "read_query(connection, query)"
   ]
  },
  {
   "cell_type": "markdown",
   "id": "2054dd9b",
   "metadata": {},
   "source": [
    "Number of courses offered in the school:"
   ]
  },
  {
   "cell_type": "code",
   "execution_count": 20,
   "id": "939e84f3",
   "metadata": {},
   "outputs": [
    {
     "name": "stdout",
     "output_type": "stream",
     "text": [
      "Query successfully executed\n"
     ]
    },
    {
     "data": {
      "text/plain": [
       "[(30,)]"
      ]
     },
     "execution_count": 20,
     "metadata": {},
     "output_type": "execute_result"
    }
   ],
   "source": [
    "query = '''\n",
    "    SELECT COUNT(*) FROM courses;    \n",
    "'''\n",
    "read_query(connection, query)"
   ]
  },
  {
   "cell_type": "markdown",
   "id": "854694e4",
   "metadata": {},
   "source": [
    "Find the most popular course:"
   ]
  },
  {
   "cell_type": "code",
   "execution_count": 28,
   "id": "43c4606c",
   "metadata": {},
   "outputs": [
    {
     "name": "stdout",
     "output_type": "stream",
     "text": [
      "Query successfully executed\n"
     ]
    },
    {
     "data": {
      "text/plain": [
       "[('Ball Ltd', 219),\n",
       " ('Smith LLC', 213),\n",
       " ('Farrell-Bates', 211),\n",
       " ('Collins, Neal and Fischer', 209),\n",
       " ('Knight, Taylor and King', 209)]"
      ]
     },
     "execution_count": 28,
     "metadata": {},
     "output_type": "execute_result"
    }
   ],
   "source": [
    "query = '''\n",
    "SELECT\n",
    "  course_name,\n",
    "  COUNT(student_id) AS num_students\n",
    "FROM classroom JOIN courses\n",
    "ON classroom.course_id = courses.id\n",
    "GROUP BY course_id\n",
    "ORDER BY num_students DESC LIMIT 5;\n",
    "'''\n",
    "read_query(connection, query)"
   ]
  },
  {
   "cell_type": "markdown",
   "id": "59d8e40a",
   "metadata": {},
   "source": [
    "Busiest teacher"
   ]
  },
  {
   "cell_type": "code",
   "execution_count": 51,
   "id": "e8db69fb",
   "metadata": {},
   "outputs": [
    {
     "name": "stdout",
     "output_type": "stream",
     "text": [
      "Query successfully executed\n"
     ]
    },
    {
     "data": {
      "text/plain": [
       "[('Luke Thomas', 8),\n",
       " ('Julia Smith', 6),\n",
       " ('Gabriel Moon', 4),\n",
       " ('Brian Waters', 4),\n",
       " ('Shannon Harvey', 4),\n",
       " ('Shawn Mosley', 2),\n",
       " ('Michelle Young', 1),\n",
       " ('Stacy Lewis', 1),\n",
       " ('Dawn Barron', 0),\n",
       " ('Suzanne Jones', 0)]"
      ]
     },
     "execution_count": 51,
     "metadata": {},
     "output_type": "execute_result"
    }
   ],
   "source": [
    "query = '''\n",
    "SELECT\n",
    "  CONCAT(\n",
    "    teachers.first_name,\n",
    "    \" \",\n",
    "    teachers.last_name\n",
    "  ) as teacher_name,\n",
    "  COUNT(courses.id) as num_courses\n",
    "FROM courses RIGHT JOIN teachers\n",
    "ON teachers.id = courses.teacher_id\n",
    "GROUP BY teachers.id\n",
    "ORDER BY num_courses DESC;\n",
    "'''\n",
    "read_query(connection, query)"
   ]
  },
  {
   "cell_type": "markdown",
   "id": "cfe967b6",
   "metadata": {},
   "source": [
    "Idle teachers:"
   ]
  },
  {
   "cell_type": "code",
   "execution_count": 52,
   "id": "f4b43cea",
   "metadata": {},
   "outputs": [
    {
     "name": "stdout",
     "output_type": "stream",
     "text": [
      "Query successfully executed\n"
     ]
    },
    {
     "data": {
      "text/plain": [
       "[('Dawn Barron', 0), ('Suzanne Jones', 0)]"
      ]
     },
     "execution_count": 52,
     "metadata": {},
     "output_type": "execute_result"
    }
   ],
   "source": [
    "query = '''\n",
    "SELECT\n",
    "  CONCAT(\n",
    "    teachers.first_name,\n",
    "    \" \",\n",
    "    teachers.last_name\n",
    "  ) as teacher_name,\n",
    "  COUNT(courses.id) AS num_courses\n",
    "FROM courses RIGHT JOIN teachers\n",
    "ON courses.teacher_id = teachers.id\n",
    "GROUP BY teachers.id\n",
    "HAVING num_courses = 0;\n",
    "'''\n",
    "read_query(connection, query)"
   ]
  },
  {
   "cell_type": "markdown",
   "id": "8bc7535d",
   "metadata": {},
   "source": [
    "Most courses enrolled by a student"
   ]
  },
  {
   "cell_type": "code",
   "execution_count": 54,
   "id": "b14e4120",
   "metadata": {},
   "outputs": [
    {
     "name": "stdout",
     "output_type": "stream",
     "text": [
      "Query successfully executed\n"
     ]
    },
    {
     "data": {
      "text/plain": [
       "[('Anthony Russell', 26),\n",
       " ('Derek Perkins', 26),\n",
       " ('Alicia Boone', 26),\n",
       " ('Sandra Robertson', 26),\n",
       " ('Megan James', 25),\n",
       " ('Monica Gray', 25),\n",
       " ('Rebecca Barnett', 25),\n",
       " ('Bradley Wade', 25),\n",
       " ('Mackenzie James', 25),\n",
       " ('Jorge Johnston', 25)]"
      ]
     },
     "execution_count": 54,
     "metadata": {},
     "output_type": "execute_result"
    }
   ],
   "source": [
    "query = '''\n",
    "SELECT\n",
    "  CONCAT(\n",
    "    students.first_name,\n",
    "    \" \",\n",
    "    students.last_name\n",
    "  ) AS student,\n",
    "  COUNT(classroom.course_id) AS num_courses\n",
    "FROM students JOIN classroom\n",
    "ON students.id = classroom.student_id\n",
    "GROUP BY students.id\n",
    "ORDER BY num_courses DESC LIMIT 10;\n",
    "\n",
    "'''\n",
    "read_query(connection, query)"
   ]
  },
  {
   "cell_type": "markdown",
   "id": "b3658828",
   "metadata": {},
   "source": [
    "Minimum courses enrolled:"
   ]
  },
  {
   "cell_type": "code",
   "execution_count": 56,
   "id": "e761de43",
   "metadata": {},
   "outputs": [
    {
     "name": "stdout",
     "output_type": "stream",
     "text": [
      "Query successfully executed\n"
     ]
    },
    {
     "data": {
      "text/plain": [
       "[('Haley Fisher', 12),\n",
       " ('Jennifer Kelley', 13),\n",
       " ('Leah Bailey', 14),\n",
       " ('John Turner', 14),\n",
       " ('Fred Conner', 15),\n",
       " ('James Riggs', 15),\n",
       " ('Tara Smith', 15),\n",
       " ('Dustin Peters', 15),\n",
       " ('Jo Lee', 15),\n",
       " ('Bethany Carpenter', 16)]"
      ]
     },
     "execution_count": 56,
     "metadata": {},
     "output_type": "execute_result"
    }
   ],
   "source": [
    "query = '''\n",
    "SELECT\n",
    "  CONCAT(\n",
    "    students.first_name,\n",
    "    \" \",\n",
    "    students.last_name\n",
    "  ) AS student,\n",
    "  COUNT(classroom.course_id) AS num_courses\n",
    "FROM students JOIN classroom\n",
    "ON students.id = classroom.student_id\n",
    "GROUP BY students.id\n",
    "ORDER BY num_courses LIMIT 10;\n",
    "\n",
    "'''\n",
    "results = read_query(connection, query)\n",
    "results"
   ]
  },
  {
   "cell_type": "code",
   "execution_count": 62,
   "id": "27f15a9c",
   "metadata": {},
   "outputs": [
    {
     "data": {
      "text/plain": [
       "<AxesSubplot:xlabel='Name'>"
      ]
     },
     "execution_count": 62,
     "metadata": {},
     "output_type": "execute_result"
    },
    {
     "data": {
      "image/png": "[encoded data removed]",
      "text/plain": [
       "<Figure size 432x288 with 1 Axes>"
      ]
     },
     "metadata": {
      "needs_background": "light"
     },
     "output_type": "display_data"
    }
   ],
   "source": [
    "df = pd.DataFrame(results, columns=[\"Name\", \"Courses\"])\n",
    "df.plot(kind=\"bar\", x=\"Name\", y=\"Courses\")"
   ]
  }
 ],
 "metadata": {
  "kernelspec": {
   "display_name": "Python 3",
   "language": "python",
   "name": "python3"
  },
  "language_info": {
   "codemirror_mode": {
    "name": "ipython",
    "version": 3
   },
   "file_extension": ".py",
   "mimetype": "text/x-python",
   "name": "python",
   "nbconvert_exporter": "python",
   "pygments_lexer": "ipython3",
   "version": "3.6.13"
  },
  "toc": {
   "base_numbering": 1,
   "nav_menu": {},
   "number_sections": true,
   "sideBar": true,
   "skip_h1_title": false,
   "title_cell": "Table of Contents",
   "title_sidebar": "Contents",
   "toc_cell": false,
   "toc_position": {},
   "toc_section_display": true,
   "toc_window_display": false
  }
 },
 "nbformat": 4,
 "nbformat_minor": 5
}
