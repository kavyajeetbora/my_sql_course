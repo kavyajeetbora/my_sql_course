{
 "cells": [
  {
   "cell_type": "code",
   "execution_count": 1,
   "id": "5722a864",
   "metadata": {},
   "outputs": [],
   "source": [
    "import mysql.connector\n",
    "import pandas as pd\n",
    "from mysql.connector import Error\n",
    "from faker import Faker\n",
    "import numpy as np"
   ]
  },
  {
   "cell_type": "markdown",
   "id": "cfb8ade6",
   "metadata": {},
   "source": [
    "## Introduction\n",
    "\n",
    "\n",
    "In this tutorial, we will learn [how to manupulate sql databases with python](https://www.freecodecamp.org/news/connect-python-with-sql/).\n",
    "\n",
    "In this project, we will create a database for a online internation language school for working professional. The schema of the database looks like this: \n",
    "\n",
    "![](https://www.freecodecamp.org/news/content/images/2020/08/ERD.png)"
   ]
  },
  {
   "cell_type": "markdown",
   "id": "90bcbd7a",
   "metadata": {},
   "source": [
    "## Connecting to SQL server"
   ]
  },
  {
   "cell_type": "code",
   "execution_count": 18,
   "id": "7e50251b",
   "metadata": {},
   "outputs": [],
   "source": [
    "## establish a connection to sql server\n",
    "def connect_to_sql_server(hostname, user, password):\n",
    "    \n",
    "    '''\n",
    "    Establish a connection between python script and MySQL server\n",
    "    '''\n",
    "    \n",
    "    connection = None\n",
    "    try:\n",
    "        connection = mysql.connector.connect(\n",
    "            host = hostname, \n",
    "            user = user, \n",
    "            passwd = password\n",
    "        )\n",
    "        print(\"MySQL server connection successfull\")\n",
    "    except Error as err: \n",
    "        print(\"Error in connection: \", err)\n",
    "        \n",
    "    return connection"
   ]
  },
  {
   "cell_type": "code",
   "execution_count": 224,
   "id": "4860c35e",
   "metadata": {},
   "outputs": [
    {
     "name": "stdout",
     "output_type": "stream",
     "text": [
      "MySQL server connection successfull\n"
     ]
    },
    {
     "data": {
      "text/plain": [
       "<mysql.connector.connection_cext.CMySQLConnection at 0x29bab036dd8>"
      ]
     },
     "execution_count": 224,
     "metadata": {},
     "output_type": "execute_result"
    }
   ],
   "source": [
    "connection = connect_to_sql_server(\n",
    "    hostname = \"localhost\",\n",
    "    user = \"root\",\n",
    "    password = \"Bora@1992\"    \n",
    ")\n",
    "connection"
   ]
  },
  {
   "cell_type": "markdown",
   "id": "59034309",
   "metadata": {},
   "source": [
    "## Creating a new database\n",
    "\n",
    "Now connection is successfull, we will create a new database that will store all the schema/table of the online language school:"
   ]
  },
  {
   "cell_type": "code",
   "execution_count": 24,
   "id": "7a986e18",
   "metadata": {},
   "outputs": [],
   "source": [
    "def create_database(connection, db_name):\n",
    "    cursor = connection.cursor()\n",
    "    try:\n",
    "        cursor.execute(\"CREATE DATABASE %s;\" % db_name)\n",
    "        print(\"Query executed successfully\")\n",
    "    except Error as err:\n",
    "        print(\"Error: %s\" % err)"
   ]
  },
  {
   "cell_type": "code",
   "execution_count": 225,
   "id": "f44b382e",
   "metadata": {},
   "outputs": [
    {
     "name": "stdout",
     "output_type": "stream",
     "text": [
      "MySQL server connection successfull\n",
      "Query executed successfully\n"
     ]
    }
   ],
   "source": [
    "connection = connect_to_sql_server(\n",
    "    hostname = \"localhost\",\n",
    "    user = \"root\",\n",
    "    password = \"Bora@1992\"    \n",
    ")\n",
    "create_database(connection, \"school\")"
   ]
  },
  {
   "cell_type": "markdown",
   "id": "7d812d36",
   "metadata": {},
   "source": [
    "## Connecting to the database"
   ]
  },
  {
   "cell_type": "code",
   "execution_count": 2,
   "id": "059ebac9",
   "metadata": {},
   "outputs": [],
   "source": [
    "def connect_to_database(hostname, user, password, db_name):\n",
    "    \n",
    "    connection = None\n",
    "    try:\n",
    "        connection = mysql.connector.connect(\n",
    "            host = hostname,\n",
    "            user = user,\n",
    "            passwd = password,\n",
    "            database = db_name\n",
    "        )\n",
    "        print(\"Connection to database: '%s' successfull.\"%db_name)\n",
    "    except Error as err:\n",
    "        print(\"ERROR: %s\" % err)\n",
    "    \n",
    "    return connection"
   ]
  },
  {
   "cell_type": "code",
   "execution_count": 3,
   "id": "c0e14b6b",
   "metadata": {},
   "outputs": [
    {
     "name": "stdout",
     "output_type": "stream",
     "text": [
      "Connection to database: 'school' successfull.\n"
     ]
    }
   ],
   "source": [
    "connection = connect_to_database(\n",
    "    hostname = \"localhost\",\n",
    "    user = \"root\",\n",
    "    password = \"Bora@1992\",\n",
    "    db_name = \"school\"\n",
    ")"
   ]
  },
  {
   "cell_type": "markdown",
   "id": "c9d48131",
   "metadata": {},
   "source": [
    "## Creating a Query Execution Function\n",
    "\n",
    "This function will be capable to executing any sql query:"
   ]
  },
  {
   "cell_type": "code",
   "execution_count": 207,
   "id": "b8502a75",
   "metadata": {},
   "outputs": [],
   "source": [
    "def execute_query(connection, query):\n",
    "    cursor = connection.cursor()\n",
    "    try:\n",
    "        cursor.execute(query)\n",
    "        connection.commit()\n",
    "        print(\"Query executed successfully.\")\n",
    "    except Error as err:\n",
    "        print(\"ERROR: %s\" % err)"
   ]
  },
  {
   "cell_type": "markdown",
   "id": "ffc7c681",
   "metadata": {},
   "source": [
    "## Creating tables\n",
    "\n",
    "First write down the sql queries and store it in respective variables:"
   ]
  },
  {
   "cell_type": "code",
   "execution_count": 227,
   "id": "2b21fa47",
   "metadata": {},
   "outputs": [],
   "source": [
    "## SQL Query\n",
    "create_teachers_table = '''\n",
    "    CREATE TABLE teachers(\n",
    "      id INT AUTO_INCREMENT PRIMARY KEY,\n",
    "      first_name VARCHAR(100) NOT NULL,\n",
    "      last_name VARCHAR(100) NOT NULL\n",
    "    );\n",
    "'''\n",
    "\n",
    "create_students_table = '''\n",
    "    CREATE TABLE students(\n",
    "      id INT AUTO_INCREMENT PRIMARY KEY,\n",
    "      first_name VARCHAR(100) NOT NULL,\n",
    "      last_name VARCHAR(100) NOT NULL\n",
    "    );\n",
    "'''\n",
    "\n",
    "create_courses_table = '''\n",
    "    CREATE TABLE courses(\n",
    "      id INT AUTO_INCREMENT,\n",
    "      course_name VARCHAR(100) NOT NULL UNIQUE,\n",
    "      teacher_id INT NOT NULL,\n",
    "      FOREIGN KEY (teacher_id) REFERENCES teachers(id),\n",
    "      PRIMARY KEY (id, teacher_id)\n",
    "    );\n",
    "'''\n",
    "\n",
    "create_classroom_table = '''\n",
    "    CREATE TABLE classroom(\n",
    "        course_id INT,\n",
    "        student_id INT,\n",
    "        PRIMARY KEY (course_id, student_id),\n",
    "        FOREIGN KEY (course_id) REFERENCES courses(id),\n",
    "        FOREIGN KEY (student_id) REFERENCES students(id)\n",
    "    );\n",
    "'''"
   ]
  },
  {
   "cell_type": "markdown",
   "id": "16fd325e",
   "metadata": {},
   "source": [
    "Now execute the sql queries:"
   ]
  },
  {
   "cell_type": "code",
   "execution_count": 228,
   "id": "0400d938",
   "metadata": {},
   "outputs": [
    {
     "name": "stdout",
     "output_type": "stream",
     "text": [
      "Connection to database: 'school' successfull.\n",
      "Query executed successfully.\n",
      "Query executed successfully.\n",
      "Query executed successfully.\n",
      "Query executed successfully.\n"
     ]
    }
   ],
   "source": [
    "## Create a mysql-python connector to the database:\n",
    "connection = connect_to_database(\n",
    "    hostname = \"localhost\",\n",
    "    user = \"root\",\n",
    "    password = \"Bora@1992\",\n",
    "    db_name = \"school\"\n",
    ")\n",
    "\n",
    "execute_query(connection, create_teachers_table)\n",
    "execute_query(connection, create_students_table)\n",
    "execute_query(connection, create_courses_table)\n",
    "execute_query(connection, create_classroom_table)"
   ]
  },
  {
   "cell_type": "markdown",
   "id": "c7a19d37",
   "metadata": {},
   "source": [
    "## Populating tables\n",
    "\n",
    "- first make the functions to return sql query that will create a random data for each table."
   ]
  },
  {
   "cell_type": "code",
   "execution_count": 6,
   "id": "b2baca61",
   "metadata": {},
   "outputs": [],
   "source": [
    "fake = Faker()\n",
    "def teachers_insert_query(n = 10):\n",
    "    \n",
    "    query = \"INSERT INTO teachers (first_name, last_name) VALUES\"\n",
    "    for _ in range(n):\n",
    "        first_name, last_name = fake.name().split(\" \")[0:2]\n",
    "        query += \"('%s','%s'),\" % (first_name, last_name)\n",
    "\n",
    "    query = \"%s;\" % query[:-1]\n",
    "    return query\n",
    "\n",
    "def students_insert_query(n=100):\n",
    "    \n",
    "    query = \"INSERT INTO students (first_name, last_name) VALUES\"\n",
    "    for _ in range(n):\n",
    "        first_name, last_name = fake.name().split(\" \")[0:2]\n",
    "        query += \"('%s','%s'),\" % (first_name, last_name)\n",
    "\n",
    "    query = \"%s;\" % query[:-1]\n",
    "    return query\n",
    "\n",
    "def courses_insert_query(n=30, n_teachers=10):\n",
    "    \n",
    "    query = \"INSERT INTO courses (course_name, teacher_id) VALUES\"\n",
    "    for _ in range(n):\n",
    "        teacher_id = np.random.randint(1,n_teachers+1)\n",
    "        query += \"('%s', %d),\" % (fake.company(), teacher_id)\n",
    "\n",
    "    query = \"%s;\" % query[:-1]\n",
    "    return query\n",
    "\n",
    "def create_classroom_data(n_rows=10000, n_courses=10, n_students=100):\n",
    "    combos = []\n",
    "    query = \"INSERT INTO classroom (course_id, student_id) VALUES \"\n",
    "    \n",
    "    for _ in range(n_rows):\n",
    "        course_id = np.random.randint(1,n_courses+1)\n",
    "        student_id = np.random.randint(1,n_students+1)\n",
    "        combination = (course_id,student_id)\n",
    "        if combination not in combos:\n",
    "            combos.append(combination)\n",
    "            query += \"%s,\" % str(combination)\n",
    "        \n",
    "    print(\"created %d entries\" % len(combos))\n",
    "    query = \"%s;\" % query[:-1]\n",
    "    return query"
   ]
  },
  {
   "cell_type": "code",
   "execution_count": 230,
   "id": "fba4685f",
   "metadata": {},
   "outputs": [
    {
     "name": "stdout",
     "output_type": "stream",
     "text": [
      "created 6101 entries\n"
     ]
    }
   ],
   "source": [
    "n_teachers = 10\n",
    "n_students = 300\n",
    "n_courses = 30\n",
    "n_classrooms = 10000\n",
    "\n",
    "populate_teachers = teachers_insert_query(n_teachers)\n",
    "populate_students = students_insert_query(n_students)\n",
    "populate_courses = courses_insert_query(n_courses)\n",
    "populate_classroom = create_classroom_data(n_rows=n_classrooms, n_courses=n_courses, n_students=n_students)"
   ]
  },
  {
   "cell_type": "markdown",
   "id": "bff34dd5",
   "metadata": {},
   "source": [
    "SQL queries are ready. Now we will insert the data into respective tables in the database:"
   ]
  },
  {
   "cell_type": "code",
   "execution_count": 234,
   "id": "32221b01",
   "metadata": {},
   "outputs": [
    {
     "name": "stdout",
     "output_type": "stream",
     "text": [
      "Connection to database: 'school' successfull.\n",
      "Query executed successfully.\n",
      "Query executed successfully.\n",
      "Query executed successfully.\n",
      "Query executed successfully.\n"
     ]
    }
   ],
   "source": [
    "## Create a mysql-python connector to the database:\n",
    "connection = connect_to_database(\n",
    "    hostname = \"localhost\",\n",
    "    user = \"root\",\n",
    "    password = \"Bora@1992\",\n",
    "    db_name = \"school\"\n",
    ")\n",
    "\n",
    "execute_query(connection, populate_teachers)\n",
    "execute_query(connection, populate_students)\n",
    "execute_query(connection, populate_courses)\n",
    "execute_query(connection, populate_classroom)"
   ]
  }
 ],
 "metadata": {
  "kernelspec": {
   "display_name": "Python 3",
   "language": "python",
   "name": "python3"
  },
  "language_info": {
   "codemirror_mode": {
    "name": "ipython",
    "version": 3
   },
   "file_extension": ".py",
   "mimetype": "text/x-python",
   "name": "python",
   "nbconvert_exporter": "python",
   "pygments_lexer": "ipython3",
   "version": "3.6.13"
  },
  "toc": {
   "base_numbering": 1,
   "nav_menu": {},
   "number_sections": true,
   "sideBar": true,
   "skip_h1_title": false,
   "title_cell": "Table of Contents",
   "title_sidebar": "Contents",
   "toc_cell": false,
   "toc_position": {},
   "toc_section_display": true,
   "toc_window_display": true
  }
 },
 "nbformat": 4,
 "nbformat_minor": 5
}
