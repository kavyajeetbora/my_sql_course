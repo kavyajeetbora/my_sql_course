{
 "cells": [
  {
   "cell_type": "code",
   "execution_count": 60,
   "id": "0db362dc",
   "metadata": {},
   "outputs": [],
   "source": [
    "import mysql.connector\n",
    "from mysql.connector import Error"
   ]
  },
  {
   "cell_type": "markdown",
   "id": "7f5f80bb",
   "metadata": {},
   "source": [
    "## Initiate connection to sql server"
   ]
  },
  {
   "cell_type": "code",
   "execution_count": 71,
   "id": "1ed9d086",
   "metadata": {},
   "outputs": [],
   "source": [
    "## connect to database\n",
    "def connect_to_database(host, user, password, database):\n",
    "\n",
    "    '''\n",
    "    Establish a connection with existing database\n",
    "    '''\n",
    "    connection = None\n",
    "    try:\n",
    "        connection = mysql.connector.connect(\n",
    "            host = host,\n",
    "            user = user,\n",
    "            passwd = password,\n",
    "            database = database\n",
    "        )\n",
    "        print(\"The connection successfully done\")\n",
    "    except Error as err:\n",
    "        print(\"ERROR:\\n%s\" % err)\n",
    "    return connection\n",
    "\n",
    "def execute_query(connection, query, show_results=True):\n",
    "    '''\n",
    "    Executes a sql query and returns the results if set to True\n",
    "    '''\n",
    "    cursor = connection.cursor()\n",
    "    results = None\n",
    "    try:\n",
    "        cursor.execute(query)\n",
    "        if show_results:\n",
    "            results = cursor.fetchall()\n",
    "            \n",
    "        warnings = cursor.fetchwarnings()\n",
    "        rows = cursor.rowcount\n",
    "        connection.commit()\n",
    "        print('''Query successfully executed.\n",
    "                warings: %s,\n",
    "                rows: %d\n",
    "        ''' % (warnings, rows))\n",
    "        \n",
    "    except Error as err:\n",
    "        print(\"ERROR:\\n%s\" % err)\n",
    "\n",
    "    return results"
   ]
  },
  {
   "cell_type": "code",
   "execution_count": 69,
   "id": "9cca8438",
   "metadata": {},
   "outputs": [
    {
     "name": "stdout",
     "output_type": "stream",
     "text": [
      "The connection successfully done\n"
     ]
    },
    {
     "data": {
      "text/plain": [
       "<mysql.connector.connection_cext.CMySQLConnection at 0x222e4932fd0>"
      ]
     },
     "execution_count": 69,
     "metadata": {},
     "output_type": "execute_result"
    }
   ],
   "source": [
    "connection = connect_to_database(\n",
    "    host = \"localhost\",\n",
    "    user = \"root\",\n",
    "    password = \"Bora@1992\",\n",
    "    database = \"join_us\"\n",
    ")\n",
    "connection"
   ]
  },
  {
   "cell_type": "code",
   "execution_count": 73,
   "id": "6615c1a2",
   "metadata": {},
   "outputs": [
    {
     "name": "stdout",
     "output_type": "stream",
     "text": [
      "Query successfully executed.\n",
      "                warings: None,\n",
      "                rows: 1\n",
      "        \n"
     ]
    },
    {
     "data": {
      "text/plain": [
       "[(500,)]"
      ]
     },
     "execution_count": 73,
     "metadata": {},
     "output_type": "execute_result"
    }
   ],
   "source": [
    "query = \"SELECT COUNT(*) FROM users;\"\n",
    "execute_query(connection, query, show_results=True)"
   ]
  },
  {
   "cell_type": "markdown",
   "id": "ab9bef83",
   "metadata": {},
   "source": [
    "## Find the oldest user in the database:"
   ]
  },
  {
   "cell_type": "code",
   "execution_count": 86,
   "id": "8f3661c4",
   "metadata": {},
   "outputs": [
    {
     "name": "stdout",
     "output_type": "stream",
     "text": [
      "Query successfully executed.\n",
      "                warings: None,\n",
      "                rows: 1\n",
      "        \n"
     ]
    },
    {
     "data": {
      "text/plain": [
       "('erichorton@hotmail.com', 'January 10th 1970')"
      ]
     },
     "execution_count": 86,
     "metadata": {},
     "output_type": "execute_result"
    }
   ],
   "source": [
    "query = '''\n",
    "SELECT \n",
    "    email_id,\n",
    "    DATE_FORMAT(created_at, \"%M %D %Y\")\n",
    "FROM users ORDER BY created_at LIMIT 1;    \n",
    "'''\n",
    "results = execute_query(connection,query)\n",
    "results[0]"
   ]
  },
  {
   "cell_type": "markdown",
   "id": "06e6ef1f",
   "metadata": {},
   "source": [
    "## Find the month wise distribution of number of users:"
   ]
  },
  {
   "cell_type": "code",
   "execution_count": 89,
   "id": "4969ba4a",
   "metadata": {},
   "outputs": [
    {
     "name": "stdout",
     "output_type": "stream",
     "text": [
      "Query successfully executed.\n",
      "                warings: None,\n",
      "                rows: 12\n",
      "        \n"
     ]
    },
    {
     "data": {
      "text/plain": [
       "[('July', 52),\n",
       " ('March', 48),\n",
       " ('June', 46),\n",
       " ('February', 45),\n",
       " ('January', 44),\n",
       " ('October', 41),\n",
       " ('November', 40),\n",
       " ('August', 40),\n",
       " ('December', 40),\n",
       " ('May', 37),\n",
       " ('April', 36),\n",
       " ('September', 31)]"
      ]
     },
     "execution_count": 89,
     "metadata": {},
     "output_type": "execute_result"
    }
   ],
   "source": [
    "query = '''\n",
    "SELECT\n",
    "    DATE_FORMAT(created_at, \"%M\") AS month,\n",
    "    COUNT(*) AS count\n",
    "FROM users\n",
    "GROUP BY month\n",
    "ORDER BY count DESC;\n",
    "'''\n",
    "results = execute_query(connection,query)\n",
    "results"
   ]
  },
  {
   "cell_type": "markdown",
   "id": "4bfab03c",
   "metadata": {},
   "source": [
    "Find all yahoo.com users:"
   ]
  },
  {
   "cell_type": "markdown",
   "id": "68b41d4d",
   "metadata": {},
   "source": [
    "## find the count for each domain"
   ]
  },
  {
   "cell_type": "code",
   "execution_count": 97,
   "id": "3e0e15f6",
   "metadata": {},
   "outputs": [
    {
     "name": "stdout",
     "output_type": "stream",
     "text": [
      "Query successfully executed.\n",
      "                warings: None,\n",
      "                rows: 4\n",
      "        \n"
     ]
    },
    {
     "data": {
      "text/plain": [
       "[('others', 267), ('hotmail', 82), ('gmail', 76), ('yahoo', 75)]"
      ]
     },
     "execution_count": 97,
     "metadata": {},
     "output_type": "execute_result"
    }
   ],
   "source": [
    "query = '''\n",
    "SELECT\n",
    "    CASE\n",
    "        WHEN email_id LIKE \"%@yahoo.com\" THEN \"yahoo\"\n",
    "        WHEN email_id LIKE \"%@gmail.com\" THEN \"gmail\"\n",
    "        WHEN email_id LIKE \"%@hotmail.com\" THEN \"hotmail\"\n",
    "        ELSE \"others\"\n",
    "    END AS domain,\n",
    "    COUNT(*) as count\n",
    "FROM users \n",
    "GROUP BY domain\n",
    "ORDER BY count DESC;\n",
    "'''\n",
    "results = execute_query(connection,query)\n",
    "results"
   ]
  },
  {
   "cell_type": "code",
   "execution_count": 98,
   "id": "d40f6159",
   "metadata": {},
   "outputs": [],
   "source": [
    "connection.close()"
   ]
  }
 ],
 "metadata": {
  "kernelspec": {
   "display_name": "Python 3",
   "language": "python",
   "name": "python3"
  },
  "language_info": {
   "codemirror_mode": {
    "name": "ipython",
    "version": 3
   },
   "file_extension": ".py",
   "mimetype": "text/x-python",
   "name": "python",
   "nbconvert_exporter": "python",
   "pygments_lexer": "ipython3",
   "version": "3.6.13"
  },
  "toc": {
   "base_numbering": 1,
   "nav_menu": {},
   "number_sections": true,
   "sideBar": true,
   "skip_h1_title": false,
   "title_cell": "Table of Contents",
   "title_sidebar": "Contents",
   "toc_cell": false,
   "toc_position": {},
   "toc_section_display": true,
   "toc_window_display": false
  }
 },
 "nbformat": 4,
 "nbformat_minor": 5
}
